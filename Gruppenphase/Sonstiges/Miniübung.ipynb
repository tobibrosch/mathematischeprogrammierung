{
 "cells": [
  {
   "attachments": {},
   "cell_type": "markdown",
   "metadata": {
    "slideshow": {
     "slide_type": "slide"
    }
   },
   "source": [
    "## Mini-Aufgaben zur Überprüfung des Verständnis: Listen\n",
    "\n",
    "Indizieren Sie die folgenden Zugriffe korrekt:"
   ]
  },
  {
   "cell_type": "code",
   "execution_count": 5,
   "metadata": {
    "slideshow": {
     "slide_type": "fragment"
    }
   },
   "outputs": [
    {
     "name": "stdout",
     "output_type": "stream",
     "text": [
      "Buchstabe a = a\n",
      "Buchstabe i = i\n",
      "Buchstabe i = Ellipsis\n",
      "Die Liste [’d’, ’e’, ’f’] = ['d', 'e', 'f']\n",
      "Das vorletzte Elemente 'h' = Ellipsis\n"
     ]
    }
   ],
   "source": [
    "q = [['a', 'b', 'c'], ['d', 'e', 'f'], ['g', 'h'], 'i']\n",
    "print(\"Buchstabe a =\", q[0][0])\n",
    "print(\"Buchstabe i =\", q[3])\n",
    "print(\"Buchstabe i =\", ...)\n",
    "print(\"Die Liste [’d’, ’e’, ’f’] =\", q[-3])\n",
    "print(\"Das vorletzte Elemente 'h' =\", ...)"
   ]
  },
  {
   "attachments": {},
   "cell_type": "markdown",
   "metadata": {
    "slideshow": {
     "slide_type": "slide"
    }
   },
   "source": [
    "Wir verwenden verschachtelte Listen, um einen einfachen Terminkalender abzuspeichern, der keine Stunden kennt. Schreiben Sie ein Programm, mit dem Sie prüfen können, ob ein gegebener Tag noch frei ist. Falls dieser nicht frei ist, geben Sie den entsprechenden Tag aus.\n",
    "\n",
    "\n",
    "\n",
    "Hinweise:\n",
    "* Verwenden Sie eine Schleife, und extrahieren Sie zunächst die einzelnen Kalendereinträge\n",
    "* Verwenden Sie dann geeignete bedingte Anweisungen, um einen Kalendereintrag auf eine Kollision zu überprüfen\n",
    "* Beachten Sie, das bei Tag-Monat-Jahr punktgenaue Treffer zählen"
   ]
  },
  {
   "cell_type": "code",
   "execution_count": 6,
   "metadata": {
    "slideshow": {
     "slide_type": "fragment"
    }
   },
   "outputs": [],
   "source": [
    "calendar = [\n",
    "    # Format:\n",
    "    # Datum       , Beschreibung\n",
    "    [[22, 8, 2023], 'Geburtstag Dominik'],\n",
    "    [[14, 4, 2023], 'Kino'],\n",
    "    [[15, 4, 2023], 'Vorlesungsvorbereitung Programmierkurs'],\n",
    "    [[16, 4, 2023], 'Treffen mit P.'],\n",
    "    [[17, 4, 2023], 'Sport']\n",
    "]\n",
    "\n",
    "# Datum, das auf Verfügbarkeit überprüft werden soll,\n",
    "# es kann auch über input() eingelesen werden:\n",
    "year = 2023   \n",
    "day = 22      # Test: 22 \n",
    "month = 4\n",
    "\n"
   ]
  },
  {
   "attachments": {},
   "cell_type": "markdown",
   "metadata": {},
   "source": [
    "## Impressum\n",
    "\n",
    "### Programmierkurs Python, Dominik Göddeke [https://www.ians.uni-stuttgart.de](https://www.ians.uni-stuttgart.de), Universität Stuttgart\n",
    "\n",
    "Version vom April 2023\n",
    "\n",
    "Lizenziert unter der <a href=\"http://creativecommons.org/licenses/by/4.0/\">Creative Commons Namensnennung 4.0 International</a> Lizenz\n",
    "\n",
    "<a rel=\"license\" href=\"http://creativecommons.org/licenses/by/4.0/\"><img alt=\"Creative Commons Lizenzvertrag\" style=\"border-width:10\" src=\"https://i.creativecommons.org/l/by/4.0/88x31.png\" /></a>\n",
    "\n",
    "\n",
    "Veröffentlicht auf [https://zoerr.de](ZOERR), (alle Rechte am Logo vorbehalten)\n",
    "<img alt=\"Logo ZOERR\" style=\"border-width:10\" src=\"https://www.zoerr.de/gfx/BWOER_logo_Srechts.png\" width=\"499\" height=\"30\" />\n",
    "\n",
    "\n",
    "Gefördert durch die <a href=\"https://stiftung-hochschullehre.de/\">Stiftung Innovation in der Hochschullehre</a>. (alle Rechte am Logo vorbehalten)\n",
    "<img style=\"border-width:0\" alt=\"Logo der Stiftung Innovation in der Hochschullehre\" src=\"https://stiftung-hochschullehre.de/wp-content/uploads/2023/03/Logo_Stiftung_Hochschullehre.svg\" width=\"285\" height=\"125\" />\t\t\t\t\n",
    "\n",
    "Gefördert mit Mitteln der Deutschen Forschungsgemeinschaft (EXC 2075 - 390740016) im Rahmen der Exzellenzstrategie.\n"
   ]
  },
  {
   "cell_type": "code",
   "execution_count": null,
   "metadata": {},
   "outputs": [],
   "source": []
  }
 ],
 "metadata": {
  "celltoolbar": "Slideshow",
  "kernelspec": {
   "display_name": "Python 3 (ipykernel)",
   "language": "python",
   "name": "python3"
  },
  "language_info": {
   "codemirror_mode": {
    "name": "ipython",
    "version": 3
   },
   "file_extension": ".py",
   "mimetype": "text/x-python",
   "name": "python",
   "nbconvert_exporter": "python",
   "pygments_lexer": "ipython3",
   "version": "3.11.3"
  },
  "livereveal": {
   "height": 768,
   "margin": 0,
   "scroll": true,
   "start_slideshow_at": "selected"
  }
 },
 "nbformat": 4,
 "nbformat_minor": 2
}
